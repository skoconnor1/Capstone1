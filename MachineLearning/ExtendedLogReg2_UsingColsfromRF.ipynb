{
 "cells": [
  {
   "cell_type": "markdown",
   "metadata": {},
   "source": [
    "# Logistic Regression Using Features Selected in Random Forest"
   ]
  },
  {
   "cell_type": "code",
   "execution_count": 1,
   "metadata": {},
   "outputs": [],
   "source": [
    "%matplotlib inline\n",
    "import pickle\n",
    "import numpy as np\n",
    "import pandas as pd\n",
    "import seaborn as sns\n",
    "import matplotlib.pyplot as plt\n",
    "import matplotlib.cm as cm\n",
    "from datetime import datetime\n",
    "from scipy.stats import stats\n",
    "from scipy.stats import norm\n",
    "from statsmodels.stats.weightstats import ztest\n",
    "from statsmodels.stats.proportion import proportions_ztest\n",
    "import math\n",
    "\n",
    "from sklearn.metrics import accuracy_score\n",
    "from sklearn.metrics import classification_report\n",
    "from sklearn.linear_model import LogisticRegression\n",
    "from sklearn.preprocessing import StandardScaler\n",
    "from sklearn.model_selection import GridSearchCV\n",
    "from sklearn.metrics import roc_curve\n",
    "from sklearn.metrics import auc\n"
   ]
  },
  {
   "cell_type": "code",
   "execution_count": 2,
   "metadata": {},
   "outputs": [],
   "source": [
    "def train_test(df, start_date, split_date):\n",
    "    training_data = df[df.Date < split_date]\n",
    "\n",
    "    #remove April 2009 data because there are a lot of nulls\n",
    "    training_data = training_data[training_data.Date > start_date]\n",
    "\n",
    "    test_data = df[df.Date > split_date]\n",
    "    Xtrain = training_data.iloc[:,1:-1]\n",
    "    #use 2018 season as test data\n",
    "    Xtest = test_data.iloc[:,1:-1]\n",
    "    ytrain = training_data.iloc[:,-1]\n",
    "    ytest = test_data.iloc[:,-1]\n",
    "    return Xtrain, Xtest, ytrain, ytest\n",
    "\n",
    "def run_logreg(Xtrain, Xtest, ytrain, ytest, scaler, cw):\n",
    "    \"\"\"Fit & tune a Logistic Regression model.\"\"\"\n",
    "    Xtrain_scld = scaler.fit_transform(Xtrain)\n",
    "    Xtest_scld = scaler.transform(Xtest)\n",
    "\n",
    "    param_grid = {'C': [0.001, 0.1, 1, 10, 100]}\n",
    "    logreg = LogisticRegression(solver = 'lbfgs', class_weight = cw)\n",
    "    #cross validation\n",
    "    logreg_cv = GridSearchCV(logreg, param_grid, cv = 10)\n",
    "    fitted = logreg_cv.fit(Xtrain_scld, ytrain)\n",
    "    print(\"Tuned Logistic Regression Parameters: {}\".format(logreg_cv.best_params_)) \n",
    "    print(\"Best score is {}\".format(logreg_cv.best_score_))\n",
    "    return fitted, Xtrain_scld, Xtest_scld, ytrain, ytest\n",
    "    \n",
    "def run_report(fitted, Xtrain_scld, Xtest_scld, ytrain, ytest):\n",
    "    \"\"\"Generate Training and Test Classification Reports\"\"\"\n",
    "    ypred = fitted.predict(Xtest_scld)\n",
    "    ypred_train = fitted.predict(Xtrain_scld)\n",
    "    \n",
    "    yprobs = fitted.predict_proba(Xtest_scld)[:,1]\n",
    "    fpr, tpr, threshold = roc_curve(ytest,  yprobs)\n",
    "    roc_auc = auc(fpr, tpr)\n",
    "\n",
    "    print(\"[Training Classification Report:]\")\n",
    "    print(classification_report(ytrain, ypred_train))\n",
    "    print('Training Accuracy: ',accuracy_score(ypred_train, ytrain))\n",
    "    print('')\n",
    "    print(\"[Test Classification Report:]\")\n",
    "    print(classification_report(ytest, ypred))\n",
    "    print('Test Accuracy: ',accuracy_score(ypred, ytest))\n",
    "    print('')\n",
    "    print('AUC: ', roc_auc)\n",
    "    return \n",
    "\n",
    "def split_fit_report(df, start_date = '2009-04-30',split_date = '2018-01',scaler = StandardScaler(), cw=None):\n",
    "    Xtrain, Xtest, ytrain, ytest = train_test(df, start_date, split_date)\n",
    "    print('')\n",
    "    fitted, Xtrain_scld, Xtest_scld, ytrain, ytest = run_logreg(Xtrain, Xtest, ytrain, ytest, scaler, cw)\n",
    "    print('')\n",
    "    run_report(fitted, Xtrain_scld, Xtest_scld, ytrain, ytest)\n",
    "    return fitted, Xtrain_scld, Xtest_scld, ytrain, ytest"
   ]
  },
  {
   "cell_type": "code",
   "execution_count": 3,
   "metadata": {},
   "outputs": [
    {
     "data": {
      "text/plain": [
       "<function BufferedReader.close>"
      ]
     },
     "execution_count": 3,
     "metadata": {},
     "output_type": "execute_result"
    }
   ],
   "source": [
    "#for baseline\n",
    "infile = open('../PickledFiles/gamelogsS09', 'rb')\n",
    "gamelogsS09 = pickle.load(infile)\n",
    "infile.close\n",
    "\n",
    "#list of original relevant columns\n",
    "infile = open('../PickledFiles/rel_cols', 'rb')\n",
    "rel_cols = pickle.load(infile)\n",
    "infile.close\n",
    "\n",
    "infile = open('../PickledFiles/gamelogsRoll_ext', 'rb')\n",
    "gamelogsRoll_ext = pickle.load(infile)\n",
    "infile.close\n",
    "\n",
    "#\n",
    "infile = open('../PickledFiles/imp_diffcols_RF', 'rb')\n",
    "imp_diffcols_RF = pickle.load(infile)\n",
    "infile.close\n",
    "\n",
    "#predicted probabilities from RandomForests\n",
    "infile = open('../PickledFiles/RFprobs', 'rb')\n",
    "RFprobs = pickle.load(infile)\n",
    "infile.close"
   ]
  },
  {
   "cell_type": "markdown",
   "metadata": {},
   "source": [
    "## Logistic Regression Model Using Columns chosen from Random Forest Feat. Importance"
   ]
  },
  {
   "cell_type": "code",
   "execution_count": 4,
   "metadata": {},
   "outputs": [
    {
     "name": "stdout",
     "output_type": "stream",
     "text": [
      "\n",
      "Tuned Logistic Regression Parameters: {'C': 1}\n",
      "Best score is 0.5544002970664687\n",
      "\n",
      "[Training Classification Report:]\n",
      "              precision    recall  f1-score   support\n",
      "\n",
      "           0       0.52      0.56      0.54      9948\n",
      "           1       0.60      0.56      0.58     11596\n",
      "\n",
      "   micro avg       0.56      0.56      0.56     21544\n",
      "   macro avg       0.56      0.56      0.56     21544\n",
      "weighted avg       0.56      0.56      0.56     21544\n",
      "\n",
      "Training Accuracy:  0.5588098774600817\n",
      "\n",
      "[Test Classification Report:]\n",
      "              precision    recall  f1-score   support\n",
      "\n",
      "           0       0.56      0.59      0.57      1148\n",
      "           1       0.61      0.58      0.60      1283\n",
      "\n",
      "   micro avg       0.58      0.58      0.58      2431\n",
      "   macro avg       0.58      0.59      0.58      2431\n",
      "weighted avg       0.59      0.58      0.59      2431\n",
      "\n",
      "Test Accuracy:  0.5849444672974085\n",
      "\n",
      "AUC:  0.6119891315269906\n"
     ]
    }
   ],
   "source": [
    "fit, Xtrain_scld, Xtest_scld, ytrain, ytest = split_fit_report(gamelogsRoll_ext[imp_diffcols_RF], cw = 'balanced')"
   ]
  },
  {
   "cell_type": "code",
   "execution_count": null,
   "metadata": {},
   "outputs": [],
   "source": []
  },
  {
   "cell_type": "markdown",
   "metadata": {},
   "source": [
    "This gives us the best results of all the logistic regression models. "
   ]
  },
  {
   "cell_type": "markdown",
   "metadata": {},
   "source": [
    "## ROC  Curve"
   ]
  },
  {
   "cell_type": "code",
   "execution_count": 5,
   "metadata": {},
   "outputs": [
    {
     "data": {
      "image/png": "[encoded data removed]",
      "text/plain": [
       "<Figure size 432x288 with 1 Axes>"
      ]
     },
     "metadata": {
      "needs_background": "light"
     },
     "output_type": "display_data"
    }
   ],
   "source": [
    "#baseline logistic regression\n",
    "XtrainBL, XtestBL, ytrainBL, ytestBL = train_test(gamelogsS09[rel_cols], start_date='2009-4-30', split_date='2018-01')\n",
    "scaler = StandardScaler()\n",
    "Xtrain_scldBL = scaler.fit_transform(XtrainBL)\n",
    "Xtest_scldBL = scaler.transform(XtestBL)\n",
    "logreg = LogisticRegression(solver = 'lbfgs')\n",
    "fitBL = logreg.fit(Xtrain_scldBL,ytrainBL)\n",
    "yprobsBL = fitBL.predict_proba(Xtest_scldBL)[:,1]\n",
    "\n",
    "yprobs = fit.predict_proba(Xtest_scld)[:,1]\n",
    "\n",
    "fprBL, tprBL, thresholdBL = roc_curve(ytestBL,  yprobsBL)\n",
    "fpr, tpr, threshold = roc_curve(ytest,  yprobs)\n",
    "roc_aucBL = auc(fprBL, tprBL)\n",
    "roc_auc = auc(fpr, tpr)\n",
    "plt.title('Receiver Operating Characteristic')\n",
    "plt.plot(fprBL, tprBL, 'b', label = 'Baseline: AUC = %0.2f' % roc_aucBL)\n",
    "plt.plot(fpr, tpr, 'g', label = 'Extended: AUC = %0.2f' % roc_auc)\n",
    "plt.legend(loc = 'lower right')\n",
    "plt.plot([0, 1], [0, 1],'r--')\n",
    "plt.xlim([0, 1])\n",
    "plt.ylim([0, 1])\n",
    "plt.ylabel('True Positive Rate')\n",
    "plt.xlabel('False Positive Rate')\n",
    "plt.savefig('ROC_Curve.png', dpi=300)"
   ]
  },
  {
   "cell_type": "code",
   "execution_count": null,
   "metadata": {},
   "outputs": [],
   "source": []
  },
  {
   "cell_type": "code",
   "execution_count": 6,
   "metadata": {},
   "outputs": [],
   "source": [
    "#add Logistic Regression predictions to the data frame with the Random Forest predictions\n",
    "yprobs_LR = fit.predict_proba(Xtest_scld)[:,1]\n",
    "RFprobs['prob_of_homewin_LR'] = yprobs_LR\n",
    "RFprobs['pred_LR'] = fit.predict(Xtest_scld)\n",
    "RFprobs.head()\n",
    "predsRFandLR = RFprobs"
   ]
  },
  {
   "cell_type": "code",
   "execution_count": 7,
   "metadata": {},
   "outputs": [],
   "source": [
    "outfile = open('../PickledFiles/RFandLR_preds', 'wb')\n",
    "pickle.dump(predsRFandLR, outfile)\n",
    "outfile.close()"
   ]
  },
  {
   "cell_type": "code",
   "execution_count": null,
   "metadata": {},
   "outputs": [],
   "source": []
  }
 ],
 "metadata": {
  "kernelspec": {
   "display_name": "Python 3",
   "language": "python",
   "name": "python3"
  },
  "language_info": {
   "codemirror_mode": {
    "name": "ipython",
    "version": 3
   },
   "file_extension": ".py",
   "mimetype": "text/x-python",
   "name": "python",
   "nbconvert_exporter": "python",
   "pygments_lexer": "ipython3",
   "version": "3.7.1"
  }
 },
 "nbformat": 4,
 "nbformat_minor": 2
}
